{
 "cells": [
  {
   "cell_type": "code",
   "execution_count": 3,
   "id": "7abb5069-b98f-4c56-bebb-226a9cabc92a",
   "metadata": {},
   "outputs": [],
   "source": [
    "import os\n",
    "import json\n",
    "from elasticsearch import Elasticsearch\n",
    "import spacy\n",
    "from spacy.tokens import Doc"
   ]
  },
  {
   "cell_type": "code",
   "execution_count": null,
   "id": "e4a41dd9-c37e-40ed-b75c-407928417990",
   "metadata": {},
   "outputs": [],
   "source": [
    "# Load the spaCy models for English\n",
    "nlp = spacy.load(\"en_core_web_sm\")"
   ]
  },
  {
   "cell_type": "code",
   "execution_count": null,
   "id": "30c886f8-5582-4afe-a8dd-f91e83778411",
   "metadata": {},
   "outputs": [],
   "source": [
    "es = Elasticsearch([{\"host\": \"localhost\", \"port\": 9200, \"scheme\": \"http\"}], basic_auth=('elastic', 'CbIxwM6z85Dm6fKtAJte'))\n",
    "\n",
    "#name of the created index\n",
    "index_name = \"index\""
   ]
  },
  {
   "cell_type": "code",
   "execution_count": null,
   "id": "26034a3e-64b8-4e03-9f6f-eb6dea40040b",
   "metadata": {},
   "outputs": [],
   "source": [
    "print(es.ping())"
   ]
  },
  {
   "cell_type": "code",
   "execution_count": null,
   "id": "e49c4099-e31c-4ced-8771-9d1b659899bc",
   "metadata": {},
   "outputs": [],
   "source": [
    "# Define Elasticsearch index settings and mappings\n",
    "index_settings = {\n",
    "    \"settings\": {\n",
    "        \"number_of_shards\": 1,\n",
    "        \"number_of_replicas\": 0,\n",
    "        \"analysis\": {\n",
    "            \"filter\": {\n",
    "                \"autocomplete_filter\": {\n",
    "                    \"type\": \"edge_ngram\",\n",
    "                    \"min_gram\": 1,\n",
    "                    \"max_gram\": 20\n",
    "                },\n",
    "                \"english_stop\": {\n",
    "                    \"type\": \"stop\",\n",
    "                    \"stopwords\": \"_english_\"\n",
    "                },\n",
    "                \"english_stemmer\": {\n",
    "                    \"type\": \"stemmer\",\n",
    "                    \"language\": \"english\"\n",
    "                }\n",
    "            },\n",
    "            \"analyzer\": {\n",
    "                \"autocomplete\": {\n",
    "                    \"type\": \"custom\",\n",
    "                    \"tokenizer\": \"standard\",\n",
    "                    \"filter\": [\n",
    "                        \"lowercase\",\n",
    "                        \"autocomplete_filter\",\n",
    "                        \"english_stop\",\n",
    "                        \"english_stemmer\"\n",
    "                    ]\n",
    "                },\n",
    "                \"content_analyzer\": {\n",
    "                    \"type\": \"custom\",\n",
    "                    \"tokenizer\": \"standard\",\n",
    "                    \"filter\": [\n",
    "                        \"lowercase\",\n",
    "                        \"english_stop\",\n",
    "                        \"english_stemmer\"\n",
    "                    ]\n",
    "                }\n",
    "            }\n",
    "        }\n",
    "    },\n",
    "    \"mappings\": {\n",
    "        \"properties\": {\n",
    "            \"title\": {\n",
    "                \"type\": \"text\",\n",
    "                \"analyzer\": \"autocomplete\",\n",
    "                \"search_analyzer\": \"standard\"\n",
    "            },\n",
    "            \"content\": {\n",
    "                \"type\": \"text\",\n",
    "                \"analyzer\": \"content_analyzer\"\n",
    "            },\n",
    "            \"authors\": {\n",
    "                \"type\": \"nested\",\n",
    "                \"properties\": {\n",
    "                    \"first_name\": {\"type\": \"text\"},\n",
    "                    \"last_name\": {\"type\": \"text\"},\n",
    "                    \"email\": {\"type\": \"text\"}\n",
    "                }\n",
    "            },\n",
    "            \"date\": {\"type\": \"date\"},\n",
    "            \"geopoint\": {\"type\": \"geo_point\"},\n",
    "            \"temporal_expressions\": {\"type\": \"keyword\"},\n",
    "            \"georeferences\": {\"type\": \"keyword\"}\n",
    "        }\n",
    "    }\n",
    "}\n",
    "# create index\n",
    "es.indices.create(index=index_name, ignore=400, body=configurations)"
   ]
  },
  {
   "cell_type": "code",
   "execution_count": null,
   "id": "7df57e46-11ab-48fb-95a6-c3deff44f0e8",
   "metadata": {},
   "outputs": [],
   "source": [
    "# Function to extract georeferenced expressions using spaCy\n",
    "def extract_georeferences(text):\n",
    "    doc = nlp(text)\n",
    "    georeferences = []\n",
    "    for ent in doc.ents:\n",
    "        if ent.label_ == \"GPE\":\n",
    "            georeferences.append(ent.text)\n",
    "    return georeferences"
   ]
  },
  {
   "cell_type": "code",
   "execution_count": null,
   "id": "4427c25d-8805-404a-9bac-f6f5f2aed468",
   "metadata": {},
   "outputs": [],
   "source": [
    "# Function to extract temporal expressions using spaCy\n",
    "def extract_temporal_expressions(text):\n",
    "    doc = nlp(text)\n",
    "    temporal_expressions = []\n",
    "    for ent in doc.ents:\n",
    "        if ent.label_ == \"DATE\":\n",
    "            temporal_expressions.append(ent.text)\n",
    "    return temporal_expressions\n"
   ]
  },
  {
   "cell_type": "code",
   "execution_count": null,
   "id": "7a42943f-705c-48e7-b619-54551d2e1356",
   "metadata": {},
   "outputs": [],
   "source": [
    "def index_single_document(es, index_name, title, content, authors, date, geopoint, temporal_expressions, georeferences):\n",
    "    if not date:\n",
    "        date = extract_document_date(temporal_expressions)\n",
    "\n",
    "    if not geopoint:\n",
    "        geopoint = extract_document_geopoint(georeferences)\n",
    "\n",
    "    document = {\n",
    "        'title': title,\n",
    "        'content': process_text(content),\n",
    "        'authors': authors,\n",
    "        'date': date,\n",
    "        'geopoint': geopoint,\n",
    "        'temporalExpressions': temporal_expressions,\n",
    "        'georeferences': georeferences\n",
    "    }\n",
    "\n",
    "    es.index(index=index_name, body=document)"
   ]
  },
  {
   "cell_type": "code",
   "execution_count": null,
   "id": "22773370-03ed-46d3-9d22-e28935451c07",
   "metadata": {},
   "outputs": [],
   "source": [
    "def index_single_document(es, index_name, title, content, authors, date, geopoint, temporal_expressions, georeferences):\n",
    "    if not date:\n",
    "        date = extract_document_date(temporal_expressions)\n",
    "\n",
    "    if not geopoint:\n",
    "        geopoint = extract_document_geopoint(georeferences)\n",
    "\n",
    "    document = {\n",
    "        'title': title,\n",
    "        'content': process_text(content),\n",
    "        'authors': authors,\n",
    "        'date': date,\n",
    "        'geopoint': geopoint,\n",
    "        'temporalExpressions': temporal_expressions,\n",
    "        'georeferences': georeferences\n",
    "    }\n",
    "\n",
    "    es.index(index=index_name, body=document)\n"
   ]
  },
  {
   "cell_type": "code",
   "execution_count": null,
   "id": "90f9ff4f-f15d-46d4-9efa-0d4fef98719e",
   "metadata": {},
   "outputs": [],
   "source": [
    "def extract_document_info(document_content):\n",
    "    # Replace with your actual implementations for extracting title, content, authors, etc.\n",
    "    title = extract_title(document_content)\n",
    "    content = extract_content(document_content)\n",
    "    authors = extract_authors(document_content)\n",
    "    date = extract_date(document_content)\n",
    "    geopoint = extract_geopoint(document_content)\n",
    "    temporal_expressions = extract_temporal_expressions(document_content)\n",
    "    georeferences = extract_georeferences(document_content)\n",
    "\n",
    "    return title, content, authors, date, geopoint, temporal_expressions, georeferences\n"
   ]
  },
  {
   "cell_type": "code",
   "execution_count": null,
   "id": "8c2f7bc2-25cb-46f5-9200-7fe19a870148",
   "metadata": {},
   "outputs": [],
   "source": []
  },
  {
   "cell_type": "code",
   "execution_count": null,
   "id": "39be4402-1a03-4207-b843-4ff3031415d5",
   "metadata": {},
   "outputs": [],
   "source": []
  },
  {
   "cell_type": "code",
   "execution_count": null,
   "id": "41fed8f9-8d41-4d8b-9afd-eea5697f045f",
   "metadata": {},
   "outputs": [],
   "source": [
    "# Inside your document processing loop\n",
    "def index_document(title, content, authors, date, geopoint, temporal_expressions, georeferences):\n",
    "    if not date:\n",
    "        date = extract_approximate_date(temporal_expressions)\n",
    "\n",
    "    if not geopoint:\n",
    "        geopoint = extract_approximate_geopoint(georeferences)\n",
    "\n",
    "    document = {\n",
    "        'title': title,\n",
    "        'content': process_text(content),\n",
    "        'authors': authors,\n",
    "        'date': date,\n",
    "        'geopoint': geopoint,\n",
    "        'temporalExpressions': temporal_expressions,\n",
    "        'georeferences': georeferences\n",
    "    }\n"
   ]
  },
  {
   "cell_type": "code",
   "execution_count": null,
   "id": "a73ada4b-c286-4eb4-af0b-cbf41b9d753f",
   "metadata": {},
   "outputs": [],
   "source": []
  },
  {
   "cell_type": "code",
   "execution_count": null,
   "id": "66da5fc9-9884-4d41-bf5e-6687ce674e45",
   "metadata": {},
   "outputs": [],
   "source": []
  },
  {
   "cell_type": "code",
   "execution_count": null,
   "id": "85589727-533f-4202-9824-c1afea4676c6",
   "metadata": {},
   "outputs": [],
   "source": []
  },
  {
   "cell_type": "code",
   "execution_count": null,
   "id": "4dafd7da-50df-4ce4-9ca6-930eed8659cc",
   "metadata": {},
   "outputs": [],
   "source": []
  },
  {
   "cell_type": "code",
   "execution_count": null,
   "id": "8c678f49-aee2-445d-8ddc-509fe539211e",
   "metadata": {},
   "outputs": [],
   "source": []
  },
  {
   "cell_type": "code",
   "execution_count": null,
   "id": "adcb2f7f-2f5b-4853-8647-2651673ed50b",
   "metadata": {},
   "outputs": [],
   "source": []
  },
  {
   "cell_type": "code",
   "execution_count": null,
   "id": "870c344f-bcda-44d4-9eee-b0e69a160200",
   "metadata": {},
   "outputs": [],
   "source": []
  },
  {
   "cell_type": "code",
   "execution_count": null,
   "id": "1744518e-3d00-4e28-9b01-71c9f515de6a",
   "metadata": {},
   "outputs": [],
   "source": []
  }
 ],
 "metadata": {
  "kernelspec": {
   "display_name": "Python 3 (ipykernel)",
   "language": "python",
   "name": "python3"
  },
  "language_info": {
   "codemirror_mode": {
    "name": "ipython",
    "version": 3
   },
   "file_extension": ".py",
   "mimetype": "text/x-python",
   "name": "python",
   "nbconvert_exporter": "python",
   "pygments_lexer": "ipython3",
   "version": "3.11.5"
  }
 },
 "nbformat": 4,
 "nbformat_minor": 5
}
