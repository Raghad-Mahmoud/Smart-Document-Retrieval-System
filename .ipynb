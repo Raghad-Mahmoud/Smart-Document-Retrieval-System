{
 "cells": [
  {
   "cell_type": "code",
   "execution_count": 1,
   "metadata": {},
   "outputs": [],
   "source": [
    "import re\n",
    "from elasticsearch import Elasticsearch\n",
    "import spacy\n",
    "from datetime import datetime\n",
    "import xml.etree.ElementTree as ET\n",
    "from opencage.geocoder import OpenCageGeocode"
   ]
  },
  {
   "cell_type": "code",
   "execution_count": 3,
   "metadata": {},
   "outputs": [
    {
     "name": "stdout",
     "output_type": "stream",
     "text": [
      "True\n"
     ]
    }
   ],
   "source": [
    "# Load the spaCy models for English\n",
    "nlp = spacy.load(\"en_core_web_sm\")\n",
    "nlp.max_length = 1500000 \n",
    "es = Elasticsearch([{\"host\": \"localhost\", \"port\": 9200, \"scheme\": \"http\"}], basic_auth=('elastic', 'CbIxwM6z85Dm6fKtAJte'))\n",
    "index_name = \"testtt\"\n",
    "api_key = '8be579e383db4dc2a7f4895ebf6923d0' \n",
    "print(es.ping())"
   ]
  },
  {
   "cell_type": "code",
   "execution_count": null,
   "metadata": {},
   "outputs": [],
   "source": [
    "if es.indices.exists(index=index_name):\n",
    "    es.indices.delete(index=index_name)\n",
    "    print(f\"Index '{index_name}' deleted.\")\n",
    "\n",
    "index_settings = {\n",
    "    \"settings\": {\n",
    "        \"number_of_shards\": 1,\n",
    "        \"number_of_replicas\": 0,\n",
    "        \"analysis\": {\n",
    "            \"analyzer\": {\n",
    "                \"autocomplete\": {\n",
    "                    \"tokenizer\": \"autocomplete\",\n",
    "                    \"filter\": [\"lowercase\"]\n",
    "                },\n",
    "                \"custom_content_analyzer\": {\n",
    "                    \"type\": \"custom\",\n",
    "                    \"tokenizer\": \"standard\",\n",
    "                    \"filter\": [\n",
    "                        \"lowercase\",\n",
    "                        \"stop\",\n",
    "                        \"custom_stemmer\"\n",
    "                    ]\n",
    "                }\n",
    "            },\n",
    "            \"tokenizer\": {\n",
    "                \"autocomplete\": {\n",
    "                    \"type\": \"edge_ngram\",\n",
    "                    \"min_gram\": 3,\n",
    "                    \"max_gram\": 20,\n",
    "                    \"token_chars\": [\"letter\", \"digit\"]\n",
    "                }\n",
    "            },\n",
    "            \"filter\": {\n",
    "                \"custom_stemmer\": {\n",
    "                    \"type\": \"stemmer\",\n",
    "                    \"name\": \"english\"\n",
    "                }\n",
    "            }\n",
    "        }\n",
    "    },\n",
    "    \"mappings\": {\n",
    "        \"properties\": {\n",
    "            \"title\": {\n",
    "                \"type\": \"text\",\n",
    "                \"analyzer\": \"autocomplete\",\n",
    "                \"fields\": {\n",
    "                    \"raw\": {\n",
    "                        \"type\": \"keyword\"\n",
    "                    }\n",
    "                }\n",
    "            },\n",
    "            \"content\": {\n",
    "                \"type\": \"text\",\n",
    "                \"analyzer\": \"custom_content_analyzer\"\n",
    "            },\n",
    "            \"authors\": {\n",
    "                \"type\": \"nested\",\n",
    "                \"properties\": {\n",
    "                    \"first_name\": {\"type\": \"text\"},\n",
    "                    \"last_name\": {\"type\": \"text\"}\n",
    "                }\n",
    "            },\n",
    "            \"date\": {\n",
    "                \"type\": \"date\",\n",
    "                \"format\": \"yyyy-MM-dd HH:mm:ss\"\n",
    "            },\n",
    "            \"georeferences\": {\n",
    "                \"type\": \"nested\",\n",
    "                \"properties\": {\n",
    "                    \"expression\": {\n",
    "                        \"type\": \"text\",\n",
    "                        \"fields\": {\n",
    "                            \"keyword\": {\n",
    "                                \"type\": \"keyword\"\n",
    "                            }\n",
    "                        }\n",
    "                    }\n",
    "                }\n",
    "            },\n",
    "            \"geopoint\": {\"type\": \"geo_point\"},\n",
    "            \"temporal_expressions\": {\n",
    "                \"type\": \"nested\",\n",
    "                \"properties\": {\n",
    "                    \"expression\": {\n",
    "                        \"type\": \"text\"\n",
    "                    },\n",
    "                    \"date\": {\n",
    "                        \"type\": \"date\",\n",
    "                        \"format\": \"yyyy-MM-dd HH:mm:ss||date_optional_time\"\n",
    "                    }\n",
    "                }\n",
    "            }\n",
    "        }\n",
    "    }\n",
    "}\n",
    "\n",
    "es.indices.create(index=index_name, ignore=400, body=index_settings)\n",
    "print(f\"Index '{index_name}' created successfully.\")\n",
    "\n"
   ]
  },
  {
   "cell_type": "code",
   "execution_count": null,
   "metadata": {},
   "outputs": [],
   "source": [
    "def extract_temporal_expressions(text):\n",
    "    \"\"\"\n",
    "    Extracts temporal expressions from the given text using spaCy.\n",
    "\n",
    "    Args:\n",
    "        text (str): Input text.\n",
    "\n",
    "    Returns:\n",
    "        list: A list of dictionaries, where each dictionary contains an \"expression\" key representing a temporal expression.\n",
    "    \"\"\"\n",
    "    # Process the text using spaCy\n",
    "    doc = nlp(text)\n",
    "    \n",
    "    # Extract entities labeled as \"DATE\"\n",
    "    temporal_expressions = [{\"expression\": ent.text} for ent in doc.ents if ent.label_ == \"DATE\"]\n",
    "\n",
    "    return temporal_expressions "
   ]
  },
  {
   "cell_type": "code",
   "execution_count": null,
   "metadata": {},
   "outputs": [],
   "source": [
    "GM &lt;GM> CANADA AND WORKERS FAR APART IN TALKS\n",
    "GM CANADA, WORKERS FAR APART IN TALKS - UNION\n",
    "WESTCOAST &lt;WTC> TO ACQUIRE AGIP PROPERTIES\n",
    "DOLLAR STEADY IN EUROPE AHEAD OF WASHINGTON TALKS\n",
    "MULFORD SAYS G-6 WANTS STABILITY\n",
    "BRITISH BANKS RESIST SIGNING MEXICO PACKAGE\n",
    "LATIN OIL PRODUCERS TO MEET IN CARACAS\n",
    "ENCOR PLANS 125 MLN DLR DEBENTURE OFFERING\n",
    "CANADA SETS OIL INDUSTRY AID PACKAGE\n",
    "CANADA ENERGY MINISTER TO MAKE STATEMENT"
   ]
  },
  {
   "cell_type": "markdown",
   "metadata": {},
   "source": [
    "GM &lt;GM> CANADA AND WORKERS FAR APART IN TALKS\n",
    "GM CANADA, WORKERS FAR APART IN TALKS - UNION\n",
    "WESTCOAST &lt;WTC> TO ACQUIRE AGIP PROPERTIES\n",
    "DOLLAR STEADY IN EUROPE AHEAD OF WASHINGTON TALKS\n",
    "MULFORD SAYS G-6 WANTS STABILITY\n",
    "BRITISH BANKS RESIST SIGNING MEXICO PACKAGE\n",
    "LATIN OIL PRODUCERS TO MEET IN CARACAS\n",
    "ENCOR PLANS 125 MLN DLR DEBENTURE OFFERING\n",
    "CANADA SETS OIL INDUSTRY AID PACKAGE\n",
    "CANADA ENERGY MINISTER TO MAKE STATEMENT"
   ]
  },
  {
   "cell_type": "code",
   "execution_count": null,
   "metadata": {},
   "outputs": [],
   "source": []
  },
  {
   "cell_type": "code",
   "execution_count": null,
   "metadata": {},
   "outputs": [],
   "source": []
  },
  {
   "cell_type": "code",
   "execution_count": null,
   "metadata": {},
   "outputs": [],
   "source": []
  },
  {
   "cell_type": "code",
   "execution_count": null,
   "metadata": {},
   "outputs": [],
   "source": []
  },
  {
   "cell_type": "code",
   "execution_count": null,
   "metadata": {},
   "outputs": [],
   "source": []
  }
 ],
 "metadata": {
  "kernelspec": {
   "display_name": "Python 3",
   "language": "python",
   "name": "python3"
  },
  "language_info": {
   "codemirror_mode": {
    "name": "ipython",
    "version": 3
   },
   "file_extension": ".py",
   "mimetype": "text/x-python",
   "name": "python",
   "nbconvert_exporter": "python",
   "pygments_lexer": "ipython3",
   "version": "3.11.5"
  }
 },
 "nbformat": 4,
 "nbformat_minor": 2
}
